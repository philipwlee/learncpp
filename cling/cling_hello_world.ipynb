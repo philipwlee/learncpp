{
 "cells": [
  {
   "cell_type": "code",
   "execution_count": 6,
   "id": "2c4ec1e5-5f07-422b-a0e4-0ba4f9402386",
   "metadata": {},
   "outputs": [
    {
     "name": "stdout",
     "output_type": "stream",
     "text": [
      "Hello World! \n"
     ]
    }
   ],
   "source": [
    "#include <iostream>\n",
    "\n",
    "std::cout << \"Hello World! \\n\";"
   ]
  },
  {
   "cell_type": "code",
   "execution_count": 8,
   "id": "4169bc53-e95f-48b0-9c0c-8e314302bc00",
   "metadata": {},
   "outputs": [
    {
     "name": "stdout",
     "output_type": "stream",
     "text": [
      "Iterating: 0\n",
      "Iterating: 4\n",
      "Iterating: 8\n",
      "Iterating: 12\n",
      "Iterating: 16\n",
      "Iterating: 20\n",
      "Iterating: 24\n",
      "Iterating: 28\n",
      "Iterating: 32\n",
      "Iterating: 36\n"
     ]
    }
   ],
   "source": [
    "for (int i{0}; i < 40; ++++++++i)\n",
    "{\n",
    "    std::cout << \"Iterating: \" << i << '\\n';\n",
    "}"
   ]
  },
  {
   "cell_type": "code",
   "execution_count": null,
   "id": "285b2aac-379f-443e-a22c-a5e53e43599a",
   "metadata": {},
   "outputs": [],
   "source": [
    "int main()\n",
    "{\n",
    "    float A{0}, B{0};\n",
    "    float i, j;\n",
    "    int k;\n",
    "    float z[1760];\n",
    "    char b[1760];\n",
    "    printf(\""
   ]
  }
 ],
 "metadata": {
  "kernelspec": {
   "display_name": "C++14",
   "language": "C++14",
   "name": "xcpp14"
  },
  "language_info": {
   "codemirror_mode": "text/x-c++src",
   "file_extension": ".cpp",
   "mimetype": "text/x-c++src",
   "name": "c++",
   "version": "14"
  }
 },
 "nbformat": 4,
 "nbformat_minor": 5
}
