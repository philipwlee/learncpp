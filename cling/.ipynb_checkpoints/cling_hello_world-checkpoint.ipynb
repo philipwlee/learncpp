{
 "cells": [
  {
   "cell_type": "code",
   "execution_count": 2,
   "id": "2c4ec1e5-5f07-422b-a0e4-0ba4f9402386",
   "metadata": {},
   "outputs": [
    {
     "name": "stdout",
     "output_type": "stream",
     "text": [
      "Hello World! \n"
     ]
    }
   ],
   "source": [
    "#include <iostream>\n",
    "\n",
    "std::cout << \"Hello World! \\n\";"
   ]
  },
  {
   "cell_type": "code",
   "execution_count": 3,
   "id": "4169bc53-e95f-48b0-9c0c-8e314302bc00",
   "metadata": {},
   "outputs": [
    {
     "name": "stdout",
     "output_type": "stream",
     "text": [
      "Iterating: 0\n",
      "Iterating: 1\n",
      "Iterating: 2\n",
      "Iterating: 3\n",
      "Iterating: 4\n",
      "Iterating: 5\n",
      "Iterating: 6\n",
      "Iterating: 7\n",
      "Iterating: 8\n",
      "Iterating: 9\n"
     ]
    }
   ],
   "source": [
    "for (int i{0}; i < 10; ++i)\n",
    "{\n",
    "    std::cout << \"Iterating: \" << i << '\\n';\n",
    "}"
   ]
  },
  {
   "cell_type": "code",
   "execution_count": null,
   "id": "c0aeb9f0-6b0f-4a44-9158-0976095d2e16",
   "metadata": {},
   "outputs": [],
   "source": []
  }
 ],
 "metadata": {
  "kernelspec": {
   "display_name": "C++14",
   "language": "C++14",
   "name": "xcpp14"
  },
  "language_info": {
   "codemirror_mode": "text/x-c++src",
   "file_extension": ".cpp",
   "mimetype": "text/x-c++src",
   "name": "c++",
   "version": "14"
  }
 },
 "nbformat": 4,
 "nbformat_minor": 5
}
